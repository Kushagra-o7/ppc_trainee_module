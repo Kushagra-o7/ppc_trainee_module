{
 "cells": [
  {
   "cell_type": "markdown",
   "metadata": {},
   "source": [
    "# 🚗 Path Planning – Interpolating Discrete Points\n",
    "\n",
    "This is where the actual task of **planning a path** begins.\n",
    "\n",
    "In the real world, we rarely have access to a **continuous set of paths**.  \n",
    "Instead, we deal with a **limited number of discrete points**, such as waypoints from cone detections or sensor outputs.\n",
    "\n",
    "Our job is to **connect these discrete points** and generate a smooth and feasible trajectory that the vehicle can follow.\n",
    "\n",
    "---\n",
    "\n",
    "## Why Do We Need Interpolation?\n",
    "\n",
    "Since we cannot drive through isolated points, we must **\"connect the dots\"** to create a **continuous path**.  \n",
    "There are different methods for this, and choosing the right one depends on the trade-offs between:\n",
    "- Accuracy\n",
    "- Smoothness\n",
    "- Computation time\n",
    "- Real-time feasibility\n",
    "\n",
    "You are encouraged to **explore** these topics online and understand them deeply.  \n",
    "Your final goal is to **optimize the path**, so analyze each method’s **advantages and disadvantages**.\n",
    "\n",
    "---\n",
    "\n",
    "## Suggested Resources\n",
    "\n",
    "### A) Linear and Quadratic Spline Interpolation\n",
    "- [Linear & Quadratic Spline Intuition](https://www.youtube.com/watch?v=KLUr1A6vyzs)\n",
    "- [Quadratic Interpolation Explanation](https://www.youtube.com/watch?v=j_jBK7zJ1vU)\n",
    "- [Quadratic Spline Derivation](https://www.youtube.com/watch?v=kCPMph3cPA8)\n",
    "\n",
    "### B) Cubic and Higher-Degree Spline Interpolation\n",
    "- [Cubic Spline Derivation](https://www.youtube.com/watch?v=wMMjF7kXnWA)\n",
    "- [Cubic Spline Example](https://www.youtube.com/watch?v=gT7F3TWihvk)\n",
    "\n",
    "> Try solving the example problem yourself before watching the solution.  \n",
    "> Now imagine scaling that to **hundreds of points** in real-time path planning!\n",
    "\n",
    "---\n",
    "\n",
    "## Assignment\n",
    "\n",
    "## You are given **four discrete points** in increasing order of x:  \n",
    "`(x₁, y₁), (x₂, y₂), (x₃, y₃), (x₄, y₄)`\n",
    "\n",
    "Your task is to:\n",
    "- **Interpolate these points using Cubic Spline Interpolation**\n",
    "- **Plot the path obtained.**\n",
    "- **Do NOT use direct library interpolation functions**\n",
    "    - You can look up source code online for understanding.\n",
    "    - But make sure you know **exactly what the code is doing**, step by step.\n",
    "\n",
    "---\n",
    "\n",
    "## What to Submit\n",
    "\n",
    "- Your coded solution (with explanation)\n",
    "- Analysis of cubic splines vs other interpolation methods\n",
    "    - Think about smoothness, accuracy, computational cost, and usability in real-time systems\n",
    "\n",
    "Happy Coding & Exploring!"
   ]
  },
  {
   "cell_type": "markdown",
   "metadata": {},
   "source": [
    "## 🌟 Optional Assignment\n",
    "\n",
    "Once you're done with the 4-point cubic spline:\n",
    "\n",
    "Try writing your **own generic cubic spline interpolation** code for **any number of points (n ≥ 4) taken as input**.\n",
    "\n",
    "- Again, **do not use `scipy`, `numpy.interp`, or any built-in spline functions**.\n",
    "- Construct and solve the system of equations manually (or using matrix operations) based on the cubic spline conditions.\n",
    "\n",
    "This will give you an appreciation of the complexity behind interpolation libraries — and how they are optimized.\n"
   ]
  },
  {
   "cell_type": "code",
   "execution_count": 20,
   "metadata": {},
   "outputs": [],
   "source": [
    "import numpy as np\n",
    "import matplotlib.pyplot as plt"
   ]
  },
  {
   "cell_type": "code",
   "execution_count": null,
   "metadata": {},
   "outputs": [],
   "source": [
    "x=[]\n",
    "y=[]\n",
    "x=np.array(list(eval(input(\"enter x values\"))))\n",
    "y=np.array(list(eval(input(\"enter y values\"))))\n",
    "x = [1.0, 2.0, 3.0, 4.0]\n",
    "y = [1.0, 4.0, 9.0, 16.0]\n",
    "\n"
   ]
  },
  {
   "cell_type": "code",
   "execution_count": 22,
   "metadata": {},
   "outputs": [
    {
     "name": "stdout",
     "output_type": "stream",
     "text": [
      " [a1,b1,c1,d1,a2,b2,c2,d2,a3,b3,c3,d3]\n",
      " [[0. 0. 0. 0. 0. 0. 0. 0. 0. 0. 0. 0.]\n",
      " [0. 0. 0. 0. 0. 0. 0. 0. 0. 0. 0. 0.]\n",
      " [0. 0. 0. 0. 0. 0. 0. 0. 0. 0. 0. 0.]\n",
      " [0. 0. 0. 0. 0. 0. 0. 0. 0. 0. 0. 0.]\n",
      " [0. 0. 0. 0. 0. 0. 0. 0. 0. 0. 0. 0.]\n",
      " [0. 0. 0. 0. 0. 0. 0. 0. 0. 0. 0. 0.]\n",
      " [0. 0. 0. 0. 0. 0. 0. 0. 0. 0. 0. 0.]\n",
      " [0. 0. 0. 0. 0. 0. 0. 0. 0. 0. 0. 0.]\n",
      " [0. 0. 0. 0. 0. 0. 0. 0. 0. 0. 0. 0.]\n",
      " [0. 0. 0. 0. 0. 0. 0. 0. 0. 0. 0. 0.]\n",
      " [0. 0. 0. 0. 0. 0. 0. 0. 0. 0. 0. 0.]\n",
      " [0. 0. 0. 0. 0. 0. 0. 0. 0. 0. 0. 0.]]\n"
     ]
    }
   ],
   "source": [
    "matrix= np.zeros((12,12))\n",
    "variables=' [a1,b1,c1,d1,a2,b2,c2,d2,a3,b3,c3,d3]'\n",
    "print(variables+\"\\n\", matrix)\n"
   ]
  },
  {
   "cell_type": "code",
   "execution_count": 23,
   "metadata": {},
   "outputs": [
    {
     "name": "stdout",
     "output_type": "stream",
     "text": [
      "[[  1.   1.   1.   1.   0.   0.   0.   0.   0.   0.   0.   0.]\n",
      " [  8.   4.   2.   1.   0.   0.   0.   0.   0.   0.   0.   0.]\n",
      " [  0.   0.   0.   0.   8.   4.   2.   1.   0.   0.   0.   0.]\n",
      " [  0.   0.   0.   0.  27.   9.   3.   1.   0.   0.   0.   0.]\n",
      " [  0.   0.   0.   0.   0.   0.   0.   0.  27.   9.   3.   1.]\n",
      " [  0.   0.   0.   0.   0.   0.   0.   0.  64.  16.   4.   1.]\n",
      " [ 12.   4.   1.   0. -12.  -4.  -1.   0.   0.   0.   0.   0.]\n",
      " [ 12.   2.   0.   0. -12.  -2.   0.   0.   0.   0.   0.   0.]\n",
      " [  0.   0.   0.   0.  27.   6.   1.   0. -27.  -6.  -1.   0.]\n",
      " [  0.   0.   0.   0.  18.   2.   0.   0. -18.  -2.   0.   0.]\n",
      " [  6.   2.   0.   0.   0.   0.   0.   0.   0.   0.   0.   0.]\n",
      " [  0.   0.   0.   0.   0.   0.   0.   0.  24.   2.   0.   0.]]\n"
     ]
    }
   ],
   "source": [
    "for i in range(4):\n",
    "    matrix[0][i]=x[0]**(3-i)\n",
    "    matrix[1][i]=x[1]**(3-i)\n",
    "    matrix[2][i+4]=x[1]**(3-i)\n",
    "    matrix[3][i+4]=x[2]**(3-i)\n",
    "    matrix[4][i+8]=x[2]**(3-i)\n",
    "    matrix[5][i+8]=x[3]**(3-i)\n",
    "    \n",
    "    if 2-i>=0:\n",
    "        matrix[6][i]=(3-i)*x[1]**(2-i)\n",
    "        matrix[6][i+4]=-(3-i)*x[1]**(2-i)\n",
    "        \n",
    "        matrix[8][i+4]=(3-i)*x[2]**(2-i)\n",
    "        matrix[8][i+8]=-(3-i)*x[2]**(2-i)\n",
    "\n",
    "    if 1-i>=0:\n",
    "        matrix[7][i]=(3-i)*(2-i)*x[1]**(1-i)\n",
    "        matrix[7][i+4]=-(3-i)*(2-i)*x[1]**(1-i)\n",
    "\n",
    "        matrix[9][i+4]=(3-i)*(2-i)*x[2]**(1-i)\n",
    "        matrix[9][i+8]=-(3-i)*(2-i)*x[2]**(1-i)\n",
    "    \n",
    "        matrix[10][i]=(3-i)*(2-i)*x[0]**(1-i)\n",
    "        matrix[11][i+8]=(3-i)*(2-i)*x[3]**(1-i)\n",
    "\n",
    "print (matrix)"
   ]
  },
  {
   "cell_type": "code",
   "execution_count": 24,
   "metadata": {},
   "outputs": [
    {
     "name": "stdout",
     "output_type": "stream",
     "text": [
      "[ 1.  4.  4.  9.  9. 16.  0.  0.  0.  0.  0.  0.]\n"
     ]
    }
   ],
   "source": [
    "rhs=np.zeros(12)\n",
    "rhs[0]=y[0]\n",
    "rhs[5]=y[3]\n",
    "for i in range(12):\n",
    "    if i in range(2,5,2):\n",
    "        rhs [i]=rhs[i-1]=y[i//2]\n",
    "print(rhs)"
   ]
  },
  {
   "cell_type": "code",
   "execution_count": 26,
   "metadata": {},
   "outputs": [
    {
     "name": "stdout",
     "output_type": "stream",
     "text": [
      "[ 4.00000000e-01 -1.20000000e+00  3.80000000e+00 -2.00000000e+00\n",
      "  1.18423789e-15  1.20000000e+00 -1.00000000e+00  1.20000000e+00\n",
      " -4.00000000e-01  4.80000000e+00 -1.18000000e+01  1.20000000e+01]\n"
     ]
    },
    {
     "data": {
      "text/plain": [
       "<function matplotlib.pyplot.show(close=None, block=None)>"
      ]
     },
     "execution_count": 26,
     "metadata": {},
     "output_type": "execute_result"
    },
    {
     "data": {
      "image/png": "[encoded data removed]",
      "text/plain": [
       "<Figure size 640x480 with 1 Axes>"
      ]
     },
     "metadata": {},
     "output_type": "display_data"
    }
   ],
   "source": [
    "coeffs=np.linalg.solve(matrix,rhs)\n",
    "print(coeffs)\n",
    "\n",
    "\n",
    "def S1(x):\n",
    "    s=0\n",
    "    for i in range(0,4):\n",
    "       s+=coeffs[i]*x**(3-i)\n",
    "    return s \n",
    "def S2(x):\n",
    "    s=0\n",
    "    for i in range(4,8):\n",
    "       s+=coeffs[i]*x**((3-i)%4)\n",
    "    return s \n",
    "def S3(x):\n",
    "    s=0\n",
    "    for i in range(8,12):\n",
    "       s+=coeffs[i]*x**((11-i)%4)\n",
    "    return s\n",
    "\n",
    "x1 = np.linspace(x[0], x[1], 100)\n",
    "x2 = np.linspace(x[1],x[2],100)\n",
    "x3 = np.linspace(x[2], x[3],100)\n",
    "\n",
    "y1 = S1(x1)\n",
    "y2 = S2(x2)\n",
    "y3 = S3(x3)\n",
    "\n",
    "plt.plot(x1, y1, label='S1(x)', color='red')\n",
    "plt.plot(x2, y2, label='S2(x)', color='green')\n",
    "plt.plot(x3, y3, label='S3(x)', color='blue')\n",
    "plt.scatter(x, y, color='black', zorder=5, label='Data Points')\n",
    "plt.title(\"Cubic Spline Interpolation\")\n",
    "plt.legend()\n",
    "plt.grid (True)\n",
    "plt.show"
   ]
  }
 ],
 "metadata": {
  "kernelspec": {
   "display_name": "Python 3",
   "language": "python",
   "name": "python3"
  },
  "language_info": {
   "codemirror_mode": {
    "name": "ipython",
    "version": 3
   },
   "file_extension": ".py",
   "mimetype": "text/x-python",
   "name": "python",
   "nbconvert_exporter": "python",
   "pygments_lexer": "ipython3",
   "version": "3.11.0"
  }
 },
 "nbformat": 4,
 "nbformat_minor": 2
}
