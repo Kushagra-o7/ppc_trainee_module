{
 "cells": [
  {
   "cell_type": "markdown",
   "metadata": {},
   "source": [
    "### 📈 Curvature Optimization\n",
    "\n",
    "Once the spline is built:\n",
    "- You must **replace the assumed boundary conditions** (like natural spline: second derivative = 0 at endpoints).\n",
    "- Your goal is to **optimize** the spline such that the **total curvature is minimized**.\n",
    "- This will result in a **smoother path**—which is desirable for autonomous vehicle trajectory planning.\n",
    "\n",
    "\n",
    "### 🔍 What does Optimization mean here?\n",
    "There are 3 parts to an optimization problem:\n",
    "- Objective (or Cost) Function :\n",
    "This is the function you want to minimize or maximize.\n",
    "- Parameters (or Decision Variables):\n",
    "These are the variables you are allowed to change in order to achieve the best value of the objective.\n",
    "- Constraints:\n",
    "These are the rules or limits that the parameters and/or the solution must satisfy.\n",
    "In general, optimization means adjusting parameters to minimize or maximize an objective — like reducing cost, increasing speed, or in our case: minimizing curvature.\n",
    "\n",
    "Here, you are given 4 fixed waypoints. Your goal is to interpolate these points using cubic splines, but with a twist:\n",
    "\n",
    "refer to the first 3 videos of the following playlist for a better understanding:\n",
    "[Video: Introduction to Curve Optimization](https://youtube.com/playlist?list=PLLK3oSbvdxFdF67yVxF_1FQO9SbBY3yTL&si=EMnkQ3Gb_EleDISu)\n",
    "\n",
    "---\n",
    "## 🎯 PROBLEM STATEMENT\n",
    "You are given 4 discrete waypoints from the previous section. Your task is to interpolate these points using **cubic spline interpolation**, but with a focus on **optimizing the shape of the curve**.\n",
    "\n",
    "Essentially, you are required to **minimize the total curvature** of the resulting spline by **varying the second derivative values at the boundaries**. This should be done **without using inbuilt spline functions** from libraries such as `scipy`. The goal is to find the **smoothest possible path** through the points, which would represent the **ideal trajectory** for a vehicle to follow. You may choose suitable bounds for the second derivative values and iterate through different combinations of boundary conditions to determine the configuration that leads to the **minimum total curvature**.\n",
    "\n",
    "---\n",
    "\n",
    "## Curvature Formula\n",
    "\n",
    "The **curvature** $\\kappa(t)$ of a 2D parametric curve $(x(t), y(t))$ is given by:\n",
    "\n",
    "$$\n",
    "\\kappa(t) = \\frac{ |x'(t)y''(t) - y'(t)x''(t)| }{ \\left( (x'(t))^2 + (y'(t))^2 \\right)^{3/2} }\n",
    "$$\n",
    "\n",
    "Where:\n",
    "- $x'(t)$ and $y'(t)$ are the **first derivatives** with respect to the parameter $t$\n",
    "- $x''(t)$ and $y''(t)$ are the **second derivatives**\n",
    "\n",
    "---\n",
    "\n",
    "## 📌 Deliverables\n",
    "\n",
    "1. Your own implementation of cubic spline interpolation.\n",
    "2. Plots of:\n",
    "   - Original points\n",
    "   - Interpolated spline without optimization\n",
    "   - Interpolated spline with optimization\n",
    "---\n",
    "\n",
    "### 🌟 Optional Assignement\n",
    "\n",
    "You may notice that directly finding the smoothest curve through waypoints seems inefficient and computationally expensive. Fortunately, mathematicians have developed robust optimization techniques that are readily available through libraries like `scipy.optimize`.\n",
    "\n",
    "In this task, try enhancing the **cubic interpolation curve** you obtained earlier by finding an **optimal trajectory through the waypoints** — one that minimizes the curvature at every interpolated point. To do this, you can treat the **second derivatives at the curve’s boundaries** as variables to be optimized. Use `scipy` functions to perform this optimization and compare the resulting smooth curve to the original interpolation.\n",
    "\n",
    "However, you may not notice an appreciable reduction in sharpness and a smoother, more natural path. What else can be done then for the **optimal raceline** for our car?\n",
    "\n",
    "---\n",
    "\n",
    "**Good luck!**  Let the paths be smooth and the math be satisfying!"
   ]
  },
  {
   "cell_type": "code",
   "execution_count": 2,
   "metadata": {},
   "outputs": [],
   "source": [
    "import numpy as np\n",
    "import matplotlib.pyplot as plt"
   ]
  },
  {
   "cell_type": "code",
   "execution_count": 3,
   "metadata": {},
   "outputs": [
    {
     "ename": "SyntaxError",
     "evalue": "invalid syntax (<string>, line 0)",
     "output_type": "error",
     "traceback": [
      "Traceback \u001b[1;36m(most recent call last)\u001b[0m:\n",
      "\u001b[0m  File \u001b[0;32m~\\AppData\\Roaming\\Python\\Python311\\site-packages\\IPython\\core\\interactiveshell.py:3577\u001b[0m in \u001b[0;35mrun_code\u001b[0m\n    exec(code_obj, self.user_global_ns, self.user_ns)\u001b[0m\n",
      "\u001b[1;36m  Cell \u001b[1;32mIn[3], line 3\u001b[1;36m\n\u001b[1;33m    x=np.array(list(eval(input(\"enter x values\"))))\u001b[1;36m\n",
      "\u001b[1;36m  File \u001b[1;32m<string>\u001b[1;36m\u001b[0m\n\u001b[1;33m    \u001b[0m\n\u001b[1;37m    ^\u001b[0m\n\u001b[1;31mSyntaxError\u001b[0m\u001b[1;31m:\u001b[0m invalid syntax\n"
     ]
    }
   ],
   "source": [
    "x=[]\n",
    "y=[]\n",
    "x=np.array(list(eval(input(\"enter x values\"))))\n",
    "y=np.array(list(eval(input(\"enter y values\"))))"
   ]
  },
  {
   "cell_type": "code",
   "execution_count": null,
   "metadata": {},
   "outputs": [],
   "source": [
    "matrix= np.zeros((12,12))\n",
    "variables=' [a1,b1,c1,d1,a2,b2,c2,d2,a3,b3,c3,d3]'\n",
    "print(variables+\"\\n\", matrix)"
   ]
  },
  {
   "cell_type": "code",
   "execution_count": null,
   "metadata": {},
   "outputs": [],
   "source": [
    "for i in range(4):\n",
    "    matrix[0][i]=x[0]**(3-i)\n",
    "    matrix[1][i]=x[1]**(3-i)\n",
    "    matrix[2][i+4]=x[1]**(3-i)\n",
    "    matrix[3][i+4]=x[2]**(3-i)\n",
    "    matrix[4][i+8]=x[2]**(3-i)\n",
    "    matrix[5][i+8]=x[3]**(3-i)\n",
    "    \n",
    "    if 2-i>=0:\n",
    "        matrix[6][i]=(3-i)*x[1]**(2-i)\n",
    "        matrix[6][i+4]=-(3-i)*x[1]**(2-i)\n",
    "        \n",
    "        matrix[8][i+4]=(3-i)*x[2]**(2-i)\n",
    "        matrix[8][i+8]=-(3-i)*x[2]**(2-i)\n",
    "\n",
    "    if 1-i>=0:\n",
    "        matrix[7][i]=(3-i)*(2-i)*x[1]**(1-i)\n",
    "        matrix[7][i+4]=-(3-i)*(2-i)*x[1]**(1-i)\n",
    "\n",
    "        matrix[9][i+4]=(3-i)*(2-i)*x[2]**(1-i)\n",
    "        matrix[9][i+8]=-(3-i)*(2-i)*x[2]**(1-i)\n",
    "    \n",
    "        matrix[10][i]=(3-i)*(2-i)*x[0]**(1-i)\n",
    "        matrix[11][i+8]=(3-i)*(2-i)*x[3]**(1-i)\n",
    "\n",
    "print (matrix)"
   ]
  },
  {
   "cell_type": "code",
   "execution_count": null,
   "metadata": {},
   "outputs": [],
   "source": [
    "rhs=np.zeros(12)\n",
    "rhs[0]=y[0]\n",
    "rhs[5]=y[3]\n",
    "for i in range(12):\n",
    "    if i in range(2,5,2):\n",
    "        rhs [i]=rhs[i-1]=y[i//2]\n",
    "print(rhs)"
   ]
  },
  {
   "cell_type": "code",
   "execution_count": null,
   "metadata": {},
   "outputs": [],
   "source": [
    "coeffs=np.linalg.solve(matrix,rhs)\n",
    "print(coeffs)\n",
    "\n",
    "\n",
    "def S1(x):\n",
    "    s=0\n",
    "    for i in range(0,4):\n",
    "       s+=coeffs[i]*x**(3-i)\n",
    "    return s \n",
    "def S2(x):\n",
    "    s=0\n",
    "    for i in range(4,8):\n",
    "       s+=coeffs[i]*x**((3-i)%4)\n",
    "    return s \n",
    "def S3(x):\n",
    "    s=0\n",
    "    for i in range(8,12):\n",
    "       s+=coeffs[i]*x**((11-i)%4)\n",
    "    return s\n",
    "\n",
    "x1 = np.linspace(x[0], x[1], 100)\n",
    "x2 = np.linspace(x[1],x[2],100)\n",
    "x3 = np.linspace(x[2], x[3],100)\n",
    "\n",
    "y1 = S1(x1)\n",
    "y2 = S2(x2)\n",
    "y3 = S3(x3)\n",
    "\n",
    "plt.plot(x1, y1, label='S1(x)', color='red')\n",
    "plt.plot(x2, y2, label='S2(x)', color='green')\n",
    "plt.plot(x3, y3, label='S3(x)', color='blue')\n",
    "plt.scatter(x, y, color='black', zorder=5, label='Data Points')\n",
    "plt.title(\"Cubic Spline Interpolation\")\n",
    "plt.legend()\n",
    "plt.grid (True)\n",
    "plt.show"
   ]
  }
 ],
 "metadata": {
  "kernelspec": {
   "display_name": "Python 3",
   "language": "python",
   "name": "python3"
  },
  "language_info": {
   "codemirror_mode": {
    "name": "ipython",
    "version": 3
   },
   "file_extension": ".py",
   "mimetype": "text/x-python",
   "name": "python",
   "nbconvert_exporter": "python",
   "pygments_lexer": "ipython3",
   "version": "3.11.0"
  }
 },
 "nbformat": 4,
 "nbformat_minor": 2
}
